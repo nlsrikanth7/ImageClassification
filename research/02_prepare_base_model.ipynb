{
 "cells": [
  {
   "cell_type": "code",
   "execution_count": 1,
   "metadata": {},
   "outputs": [],
   "source": [
    "import os"
   ]
  },
  {
   "cell_type": "code",
   "execution_count": 2,
   "metadata": {},
   "outputs": [
    {
     "data": {
      "text/plain": [
       "'/Users/shrikanthnallapati/Projects/Chicken_Disease_Classification/ImageClassification/research'"
      ]
     },
     "execution_count": 2,
     "metadata": {},
     "output_type": "execute_result"
    }
   ],
   "source": [
    "%pwd"
   ]
  },
  {
   "cell_type": "code",
   "execution_count": 3,
   "metadata": {},
   "outputs": [],
   "source": [
    "os.chdir(\"../\")"
   ]
  },
  {
   "cell_type": "code",
   "execution_count": 4,
   "metadata": {},
   "outputs": [
    {
     "data": {
      "text/plain": [
       "'/Users/shrikanthnallapati/Projects/Chicken_Disease_Classification/ImageClassification'"
      ]
     },
     "execution_count": 4,
     "metadata": {},
     "output_type": "execute_result"
    }
   ],
   "source": [
    "%pwd"
   ]
  },
  {
   "cell_type": "markdown",
   "metadata": {},
   "source": [
    "# Now update the entity which is the return type of the function either inbuild type or custom type (eg - ConfigBox in utils/common.py)"
   ]
  },
  {
   "cell_type": "code",
   "execution_count": 15,
   "metadata": {},
   "outputs": [],
   "source": [
    "from dataclasses import dataclass\n",
    "from pathlib import Path\n",
    "\n",
    "@dataclass(frozen=True)\n",
    "\n",
    "class PrepareBaseModelConfig:\n",
    "    root_dir: Path\n",
    "    base_model_path: Path\n",
    "    updated_base_model_path: Path\n",
    "    params_image_size: list\n",
    "    params_learning_rate: float\n",
    "    params_include_top: bool\n",
    "    params_weights: str\n",
    "    params_classes: int\n",
    "    "
   ]
  },
  {
   "cell_type": "markdown",
   "metadata": {},
   "source": [
    "# update configuration manager"
   ]
  },
  {
   "cell_type": "code",
   "execution_count": 6,
   "metadata": {},
   "outputs": [],
   "source": [
    "from src_cnnClassifier.constants import *\n",
    "from src_cnnClassifier.utils.common import read_yaml, create_directories\n",
    "from src_cnnClassifier.config.configuration import ConfigurationManager"
   ]
  },
  {
   "cell_type": "code",
   "execution_count": 7,
   "metadata": {},
   "outputs": [],
   "source": [
    "class ConfigurationManager:\n",
    "    def __init__(self, config_filepath = CONFIG_FILE_PATH, params_filepath = PARAMS_FILE_PATH):\n",
    "        self.config = read_yaml(config_filepath)\n",
    "        self.params = read_yaml(params_filepath)\n",
    "        create_directories([self.config.artifacts_root])\n",
    "        \n",
    "\n",
    "    def get_prepare_base_model_config(self) -> PrepareBaseModelConfig:\n",
    "        config = self.config.prepare_base_model\n",
    "\n",
    "        create_directories([config.root_dir])\n",
    "\n",
    "        prepare_base_model_config = PrepareBaseModelConfig(\n",
    "            root_dir= Path(config.root_dir),\n",
    "            base_model_path= Path(config.base_model_path),\n",
    "            updated_base_model_path= Path(config.updated_base_model_path),\n",
    "            params_image_size= self.params.IMAGE_SIZE,\n",
    "            params_learning_rate= self.params.LEARNING_RATE,\n",
    "            params_include_top= self.params.INCLUDE_TOP,\n",
    "            params_weights= self.params.WEIGHTS,\n",
    "            params_classes= self.params.CLASSES\n",
    "        )\n",
    "\n",
    "        return prepare_base_model_config"
   ]
  },
  {
   "cell_type": "markdown",
   "metadata": {},
   "source": [
    "# Create the components "
   ]
  },
  {
   "cell_type": "code",
   "execution_count": 8,
   "metadata": {},
   "outputs": [],
   "source": [
    "import os \n",
    "import urllib.request as request\n",
    "from zipfile import ZipFile \n",
    "import tensorflow as tf\n"
   ]
  },
  {
   "cell_type": "code",
   "execution_count": 16,
   "metadata": {},
   "outputs": [],
   "source": [
    "class PrepareBaseModel:\n",
    "    def __init__(self, config: PrepareBaseModelConfig):\n",
    "        self.config = config\n",
    "\n",
    "    def get_base_model(self):\n",
    "        self.model = tf.keras.applications.vgg16.VGG16(\n",
    "            input_shape=self.config.params_image_size,\n",
    "            weights=self.config.params_weights, \n",
    "            include_top=self.config.params_include_top\n",
    "        )\n",
    "\n",
    "        self.save_model(path=self.config.base_model_path, model = self.model)\n",
    "    \n",
    "    @staticmethod\n",
    "    def _prepare_full_model(model, classes, freeze_all, freeze_till, learning_rate):\n",
    "        if freeze_all:\n",
    "            for layer in model.layers:\n",
    "                model.trainable = False\n",
    "        elif (freeze_till is not None) and (freeze_till > 0):\n",
    "            for layer in model.layers[:-freeze_till]:\n",
    "                model.trainable = False\n",
    "\n",
    "        flatten_in = tf.keras.layers.Flatten()(model.output)\n",
    "        prediction = tf.keras.layers.Dense(\n",
    "            units = classes,\n",
    "            activation= \"softmax\"\n",
    "        )(flatten_in)\n",
    "        \n",
    "\n",
    "        full_model = tf.keras.models.Model(\n",
    "            inputs=model.input,\n",
    "            outputs = prediction\n",
    "        ) \n",
    "\n",
    "        full_model.compile(\n",
    "            optimizer=tf.keras.optimizers.SGD(learning_rate=learning_rate),\n",
    "            loss = tf.keras.losses.CategoricalCrossentropy(),\n",
    "            metrics=['accuracy']\n",
    "        )\n",
    "\n",
    "        full_model.summary()\n",
    "        return full_model\n",
    "    \n",
    "    def update_base_model(self):\n",
    "        self.full_model = self._prepare_full_model(\n",
    "            model= self.model,\n",
    "            classes=self.config.params_classes,\n",
    "            freeze_all=True,\n",
    "            freeze_till = None,\n",
    "            learning_rate=self.config.params_learning_rate\n",
    "        )\n",
    "\n",
    "        self.save_model(path=self.config.updated_base_model_path, model =self.full_model)\n",
    "\n",
    "    @staticmethod\n",
    "    def save_model(path: Path, model: tf.keras.Model):\n",
    "        model.save(path)\n"
   ]
  },
  {
   "cell_type": "markdown",
   "metadata": {},
   "source": [
    "# Pipeline"
   ]
  },
  {
   "cell_type": "code",
   "execution_count": 17,
   "metadata": {},
   "outputs": [
    {
     "name": "stdout",
     "output_type": "stream",
     "text": [
      "[2023-09-12 21:51:17,145: INFO: common: yaml file: config/config.yaml loaded successfully]\n",
      "[2023-09-12 21:51:17,148: INFO: common: yaml file: params.yaml loaded successfully]\n",
      "[2023-09-12 21:51:17,149: INFO: common: created directory at: artifacts]\n"
     ]
    },
    {
     "ename": "BoxKeyError",
     "evalue": "\"'ConfigBox' object has no attribute 'prepare_base_modle'\"",
     "output_type": "error",
     "traceback": [
      "\u001b[0;31m---------------------------------------------------------------------------\u001b[0m",
      "\u001b[0;31mKeyError\u001b[0m                                  Traceback (most recent call last)",
      "File \u001b[0;32m~/Projects/Chicken_Disease_Classification/ImageClassification/.Chicken/lib/python3.11/site-packages/box/box.py:592\u001b[0m, in \u001b[0;36mbox.box.Box.__getitem__\u001b[0;34m()\u001b[0m\n",
      "\u001b[0;31mKeyError\u001b[0m: 'prepare_base_modle'",
      "\nThe above exception was the direct cause of the following exception:\n",
      "\u001b[0;31mBoxKeyError\u001b[0m                               Traceback (most recent call last)",
      "File \u001b[0;32m~/Projects/Chicken_Disease_Classification/ImageClassification/.Chicken/lib/python3.11/site-packages/box/box.py:631\u001b[0m, in \u001b[0;36mbox.box.Box.__getattr__\u001b[0;34m()\u001b[0m\n",
      "File \u001b[0;32m~/Projects/Chicken_Disease_Classification/ImageClassification/.Chicken/lib/python3.11/site-packages/box/box.py:619\u001b[0m, in \u001b[0;36mbox.box.Box.__getitem__\u001b[0;34m()\u001b[0m\n",
      "\u001b[0;31mBoxKeyError\u001b[0m: \"'prepare_base_modle'\"",
      "\nDuring handling of the above exception, another exception occurred:\n",
      "\u001b[0;31mAttributeError\u001b[0m                            Traceback (most recent call last)",
      "File \u001b[0;32m~/Projects/Chicken_Disease_Classification/ImageClassification/.Chicken/lib/python3.11/site-packages/box/box.py:633\u001b[0m, in \u001b[0;36mbox.box.Box.__getattr__\u001b[0;34m()\u001b[0m\n",
      "\u001b[0;31mAttributeError\u001b[0m: 'ConfigBox' object has no attribute 'prepare_base_modle'",
      "\nThe above exception was the direct cause of the following exception:\n",
      "\u001b[0;31mBoxKeyError\u001b[0m                               Traceback (most recent call last)",
      "File \u001b[0;32m~/Projects/Chicken_Disease_Classification/ImageClassification/.Chicken/lib/python3.11/site-packages/box/config_box.py:29\u001b[0m, in \u001b[0;36mbox.config_box.ConfigBox.__getattr__\u001b[0;34m()\u001b[0m\n",
      "File \u001b[0;32m~/Projects/Chicken_Disease_Classification/ImageClassification/.Chicken/lib/python3.11/site-packages/box/box.py:647\u001b[0m, in \u001b[0;36mbox.box.Box.__getattr__\u001b[0;34m()\u001b[0m\n",
      "\u001b[0;31mBoxKeyError\u001b[0m: \"'ConfigBox' object has no attribute 'prepare_base_modle'\"",
      "\nDuring handling of the above exception, another exception occurred:\n",
      "\u001b[0;31mKeyError\u001b[0m                                  Traceback (most recent call last)",
      "File \u001b[0;32m~/Projects/Chicken_Disease_Classification/ImageClassification/.Chicken/lib/python3.11/site-packages/box/box.py:592\u001b[0m, in \u001b[0;36mbox.box.Box.__getitem__\u001b[0;34m()\u001b[0m\n",
      "\u001b[0;31mKeyError\u001b[0m: 'prepare_base_modle'",
      "\nThe above exception was the direct cause of the following exception:\n",
      "\u001b[0;31mBoxKeyError\u001b[0m                               Traceback (most recent call last)",
      "File \u001b[0;32m~/Projects/Chicken_Disease_Classification/ImageClassification/.Chicken/lib/python3.11/site-packages/box/box.py:631\u001b[0m, in \u001b[0;36mbox.box.Box.__getattr__\u001b[0;34m()\u001b[0m\n",
      "File \u001b[0;32m~/Projects/Chicken_Disease_Classification/ImageClassification/.Chicken/lib/python3.11/site-packages/box/box.py:619\u001b[0m, in \u001b[0;36mbox.box.Box.__getitem__\u001b[0;34m()\u001b[0m\n",
      "\u001b[0;31mBoxKeyError\u001b[0m: \"'prepare_base_modle'\"",
      "\nDuring handling of the above exception, another exception occurred:\n",
      "\u001b[0;31mAttributeError\u001b[0m                            Traceback (most recent call last)",
      "File \u001b[0;32m~/Projects/Chicken_Disease_Classification/ImageClassification/.Chicken/lib/python3.11/site-packages/box/box.py:633\u001b[0m, in \u001b[0;36mbox.box.Box.__getattr__\u001b[0;34m()\u001b[0m\n",
      "\u001b[0;31mAttributeError\u001b[0m: 'ConfigBox' object has no attribute 'prepare_base_modle'",
      "\nThe above exception was the direct cause of the following exception:\n",
      "\u001b[0;31mBoxKeyError\u001b[0m                               Traceback (most recent call last)",
      "\u001b[1;32m/Users/shrikanthnallapati/Projects/Chicken_Disease_Classification/ImageClassification/research/02_prepare_base_model.ipynb Cell 14\u001b[0m line \u001b[0;36m8\n\u001b[1;32m      <a href='vscode-notebook-cell:/Users/shrikanthnallapati/Projects/Chicken_Disease_Classification/ImageClassification/research/02_prepare_base_model.ipynb#X21sZmlsZQ%3D%3D?line=5'>6</a>\u001b[0m     prepare_base_model\u001b[39m.\u001b[39mupdate_base_model()\n\u001b[1;32m      <a href='vscode-notebook-cell:/Users/shrikanthnallapati/Projects/Chicken_Disease_Classification/ImageClassification/research/02_prepare_base_model.ipynb#X21sZmlsZQ%3D%3D?line=6'>7</a>\u001b[0m \u001b[39mexcept\u001b[39;00m \u001b[39mException\u001b[39;00m \u001b[39mas\u001b[39;00m e:\n\u001b[0;32m----> <a href='vscode-notebook-cell:/Users/shrikanthnallapati/Projects/Chicken_Disease_Classification/ImageClassification/research/02_prepare_base_model.ipynb#X21sZmlsZQ%3D%3D?line=7'>8</a>\u001b[0m     \u001b[39mraise\u001b[39;00m e\n",
      "\u001b[1;32m/Users/shrikanthnallapati/Projects/Chicken_Disease_Classification/ImageClassification/research/02_prepare_base_model.ipynb Cell 14\u001b[0m line \u001b[0;36m3\n\u001b[1;32m      <a href='vscode-notebook-cell:/Users/shrikanthnallapati/Projects/Chicken_Disease_Classification/ImageClassification/research/02_prepare_base_model.ipynb#X21sZmlsZQ%3D%3D?line=0'>1</a>\u001b[0m \u001b[39mtry\u001b[39;00m:\n\u001b[1;32m      <a href='vscode-notebook-cell:/Users/shrikanthnallapati/Projects/Chicken_Disease_Classification/ImageClassification/research/02_prepare_base_model.ipynb#X21sZmlsZQ%3D%3D?line=1'>2</a>\u001b[0m     config \u001b[39m=\u001b[39m ConfigurationManager()\n\u001b[0;32m----> <a href='vscode-notebook-cell:/Users/shrikanthnallapati/Projects/Chicken_Disease_Classification/ImageClassification/research/02_prepare_base_model.ipynb#X21sZmlsZQ%3D%3D?line=2'>3</a>\u001b[0m     prepare_base_model_config \u001b[39m=\u001b[39m config\u001b[39m.\u001b[39;49mget_prepare_base_model_config()\n\u001b[1;32m      <a href='vscode-notebook-cell:/Users/shrikanthnallapati/Projects/Chicken_Disease_Classification/ImageClassification/research/02_prepare_base_model.ipynb#X21sZmlsZQ%3D%3D?line=3'>4</a>\u001b[0m     prepare_base_model \u001b[39m=\u001b[39m PrepareBaseModel(config \u001b[39m=\u001b[39m prepare_base_model_config)\n\u001b[1;32m      <a href='vscode-notebook-cell:/Users/shrikanthnallapati/Projects/Chicken_Disease_Classification/ImageClassification/research/02_prepare_base_model.ipynb#X21sZmlsZQ%3D%3D?line=4'>5</a>\u001b[0m     prepare_base_model\u001b[39m.\u001b[39mget_base_model()\n",
      "\u001b[1;32m/Users/shrikanthnallapati/Projects/Chicken_Disease_Classification/ImageClassification/research/02_prepare_base_model.ipynb Cell 14\u001b[0m line \u001b[0;36m9\n\u001b[1;32m      <a href='vscode-notebook-cell:/Users/shrikanthnallapati/Projects/Chicken_Disease_Classification/ImageClassification/research/02_prepare_base_model.ipynb#X21sZmlsZQ%3D%3D?line=7'>8</a>\u001b[0m \u001b[39mdef\u001b[39;00m \u001b[39mget_prepare_base_model_config\u001b[39m(\u001b[39mself\u001b[39m) \u001b[39m-\u001b[39m\u001b[39m>\u001b[39m PrepareBaseModelConfig:\n\u001b[0;32m----> <a href='vscode-notebook-cell:/Users/shrikanthnallapati/Projects/Chicken_Disease_Classification/ImageClassification/research/02_prepare_base_model.ipynb#X21sZmlsZQ%3D%3D?line=8'>9</a>\u001b[0m     config \u001b[39m=\u001b[39m \u001b[39mself\u001b[39;49m\u001b[39m.\u001b[39;49mconfig\u001b[39m.\u001b[39;49mprepare_base_modle\n\u001b[1;32m     <a href='vscode-notebook-cell:/Users/shrikanthnallapati/Projects/Chicken_Disease_Classification/ImageClassification/research/02_prepare_base_model.ipynb#X21sZmlsZQ%3D%3D?line=10'>11</a>\u001b[0m     create_directories([config\u001b[39m.\u001b[39mroot_dir])\n\u001b[1;32m     <a href='vscode-notebook-cell:/Users/shrikanthnallapati/Projects/Chicken_Disease_Classification/ImageClassification/research/02_prepare_base_model.ipynb#X21sZmlsZQ%3D%3D?line=12'>13</a>\u001b[0m     prepare_base_model_config \u001b[39m=\u001b[39m PrepareBaseModelConfig(\n\u001b[1;32m     <a href='vscode-notebook-cell:/Users/shrikanthnallapati/Projects/Chicken_Disease_Classification/ImageClassification/research/02_prepare_base_model.ipynb#X21sZmlsZQ%3D%3D?line=13'>14</a>\u001b[0m         root_dir\u001b[39m=\u001b[39m Path(config\u001b[39m.\u001b[39mroot_dir),\n\u001b[1;32m     <a href='vscode-notebook-cell:/Users/shrikanthnallapati/Projects/Chicken_Disease_Classification/ImageClassification/research/02_prepare_base_model.ipynb#X21sZmlsZQ%3D%3D?line=14'>15</a>\u001b[0m         base_model_path\u001b[39m=\u001b[39m Path(config\u001b[39m.\u001b[39mbase_model_path),\n\u001b[0;32m   (...)\u001b[0m\n\u001b[1;32m     <a href='vscode-notebook-cell:/Users/shrikanthnallapati/Projects/Chicken_Disease_Classification/ImageClassification/research/02_prepare_base_model.ipynb#X21sZmlsZQ%3D%3D?line=20'>21</a>\u001b[0m         params_classes\u001b[39m=\u001b[39m \u001b[39mself\u001b[39m\u001b[39m.\u001b[39mparams\u001b[39m.\u001b[39mCLASSES\n\u001b[1;32m     <a href='vscode-notebook-cell:/Users/shrikanthnallapati/Projects/Chicken_Disease_Classification/ImageClassification/research/02_prepare_base_model.ipynb#X21sZmlsZQ%3D%3D?line=21'>22</a>\u001b[0m     )\n",
      "File \u001b[0;32m~/Projects/Chicken_Disease_Classification/ImageClassification/.Chicken/lib/python3.11/site-packages/box/config_box.py:31\u001b[0m, in \u001b[0;36mbox.config_box.ConfigBox.__getattr__\u001b[0;34m()\u001b[0m\n",
      "File \u001b[0;32m~/Projects/Chicken_Disease_Classification/ImageClassification/.Chicken/lib/python3.11/site-packages/box/box.py:647\u001b[0m, in \u001b[0;36mbox.box.Box.__getattr__\u001b[0;34m()\u001b[0m\n",
      "\u001b[0;31mBoxKeyError\u001b[0m: \"'ConfigBox' object has no attribute 'prepare_base_modle'\""
     ]
    }
   ],
   "source": [
    "try:\n",
    "    config = ConfigurationManager()\n",
    "    prepare_base_model_config = config.get_prepare_base_model_config()\n",
    "    prepare_base_model = PrepareBaseModel(config = prepare_base_model_config)\n",
    "    prepare_base_model.get_base_model()\n",
    "    prepare_base_model.update_base_model()\n",
    "except Exception as e:\n",
    "    raise e"
   ]
  }
 ],
 "metadata": {
  "kernelspec": {
   "display_name": ".Chicken",
   "language": "python",
   "name": "python3"
  },
  "language_info": {
   "codemirror_mode": {
    "name": "ipython",
    "version": 3
   },
   "file_extension": ".py",
   "mimetype": "text/x-python",
   "name": "python",
   "nbconvert_exporter": "python",
   "pygments_lexer": "ipython3",
   "version": "3.11.1"
  },
  "orig_nbformat": 4
 },
 "nbformat": 4,
 "nbformat_minor": 2
}
